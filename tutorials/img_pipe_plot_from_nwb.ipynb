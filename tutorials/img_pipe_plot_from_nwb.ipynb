{
 "cells": [
  {
   "cell_type": "markdown",
   "metadata": {},
   "source": [
    "# Plotting from `NWB` files\n",
    "In this tutorial you'll learn to use the `plot_from_nwb()` function to plot the 3D mesh of brain structures and electrode positions contained in a [Neurodata Without Borders: Neurophysiology 2.0](https://www.nwb.org/) format.\n",
    "\n",
    "Let's start importing the relevant modules:"
   ]
  },
  {
   "cell_type": "code",
   "execution_count": 1,
   "metadata": {
    "scrolled": true
   },
   "outputs": [],
   "source": [
    "import matplotlib.pyplot as plt\n",
    "import numpy as np\n",
    "import os\n",
    "from img_pipe import plotting\n",
    "%matplotlib inline\n",
    "\n",
    "subj_file = 'ben_subjects/EC125_B22.nwb'"
   ]
  },
  {
   "cell_type": "markdown",
   "metadata": {},
   "source": [
    "Now indicate the location of your `nwb` file. The standard way is to place it inside the Freesurfers subjects path, defined by the environment variable `SUBJECTS_DIR`. You can also select which hemisphere to plot (the default is both, 'stereo').\n",
    "\n",
    "First let us take a look at the subjects's brain structure: "
   ]
  },
  {
   "cell_type": "code",
   "execution_count": 2,
   "metadata": {},
   "outputs": [
    {
     "name": "stderr",
     "output_type": "stream",
     "text": [
      "/home/tauffer/anaconda3/envs/img_pipe_py3t/lib/python3.5/site-packages/mayavi-4.5.0-py3.5-linux-x86_64.egg/tvtk/array_handler.py:268: FutureWarning: Conversion of the second argument of issubdtype from `complex` to `np.complexfloating` is deprecated. In future, it will be treated as `np.complex128 == np.dtype(complex).type`.\n",
      "  assert not numpy.issubdtype(z.dtype, complex), \\\n"
     ]
    }
   ],
   "source": [
    "subj_file = 'ben_subjects/EC125_B22.nwb'\n",
    "\n",
    "# Call function and generate mlab image\n",
    "mesh, mlab = plotting.plot_from_nwb(subj_file)"
   ]
  },
  {
   "cell_type": "markdown",
   "metadata": {},
   "source": [
    "We can emphasize any **Region of Interest** defined in the `NWB` file: "
   ]
  },
  {
   "cell_type": "code",
   "execution_count": null,
   "metadata": {},
   "outputs": [],
   "source": [
    "lh_lOFC = {\"name\":'lh_lOFC', \"opacity\":1., \"color\":(.5,.3,.5)}\n",
    "lh_LHinsula = {\"name\":'lh_LHinsula', \"opacity\":1., \"color\":(.1,.1,.7)}\n",
    "roi = [lh_lOFC, lh_LHinsula]\n",
    "\n",
    "mesh, mlab = plotting.plot_from_nwb(subj_file, opacity=.3, roi=roi)\n",
    "\n",
    "mlab.view(azimuth=270, elevation=180, distance=300)\n",
    "arr = mlab.screenshot(antialiased=True)\n",
    "plt.figure(figsize=(20,10))\n",
    "plt.imshow(arr, aspect='equal')\n",
    "plt.axis('off')\n",
    "plt.show()\n",
    "mlab.close()"
   ]
  },
  {
   "cell_type": "markdown",
   "metadata": {},
   "source": [
    "Next, let's plot the **electrodes** in their original coordinates."
   ]
  },
  {
   "cell_type": "code",
   "execution_count": null,
   "metadata": {
    "scrolled": false
   },
   "outputs": [],
   "source": [
    "mesh, mlab = plotting.plot_from_nwb(subj_file, hem='stereo', opacity=0.3, electrodes=True)\n",
    "\n",
    "mlab.view(azimuth=30, elevation=90, distance=300)\n",
    "arr = mlab.screenshot(antialiased=True)\n",
    "plt.figure(figsize=(20,10))\n",
    "plt.imshow(arr, aspect='equal')\n",
    "plt.axis('off')\n",
    "plt.show()\n",
    "mlab.close()"
   ]
  },
  {
   "cell_type": "markdown",
   "metadata": {},
   "source": [
    "We can select a specific group of **electrodes by location**, and plot only the relevant hemisphere:"
   ]
  },
  {
   "cell_type": "code",
   "execution_count": null,
   "metadata": {},
   "outputs": [],
   "source": [
    "elec_roi_list = ['rostralmiddlefrontal', 'postcentral']\n",
    "\n",
    "mesh, mlab = plotting.plot_from_nwb(subj_file, hem='rh', opacity=0.8, electrodes=True, elec_roi=elec_roi_list)\n",
    "\n",
    "mlab.view(azimuth=30, elevation=90, distance=300)\n",
    "arr = mlab.screenshot(antialiased=True)\n",
    "plt.figure(figsize=(20,10))\n",
    "plt.imshow(arr, aspect='equal')\n",
    "plt.axis('off')\n",
    "plt.show()\n",
    "mlab.close()"
   ]
  },
  {
   "cell_type": "markdown",
   "metadata": {},
   "source": [
    "Finally, we can visualize the electrodes at their **warped coordinates**:"
   ]
  },
  {
   "cell_type": "code",
   "execution_count": null,
   "metadata": {},
   "outputs": [],
   "source": [
    "fs_dir = os.environ['SUBJECTS_DIR']\n",
    "fpath_atlas = os.path.join(fs_dir, 'cvs_avg35_inMNI152.nwb')\n",
    "\n",
    "mesh, mlab = plotting.plot_from_nwb(subj_file, hem='rh', opacity=0.4, electrodes=True, \n",
    "                                    elec_space='warped', fpath_atlas=fpath_atlas)"
   ]
  },
  {
   "cell_type": "markdown",
   "metadata": {},
   "source": [
    "**Useful references:** <br>\n",
    "[Neurodata Without Borders: Neurophysiology 2.0](https://www.nwb.org/)\n",
    "[NWB for Python](https://pynwb.readthedocs.io/en/stable/index.html) <br>\n",
    "[nwbext_ecog: An NWB extension for ECoG data](https://github.com/bendichter/nwbext_ecog) <br>\n",
    "[img_pipe: Image processing pipeline for ECoG data](https://github.com/ChangLabUcsf/img_pipe)\n"
   ]
  }
 ],
 "metadata": {
  "kernelspec": {
   "display_name": "Python 3",
   "language": "python",
   "name": "python3"
  },
  "language_info": {
   "codemirror_mode": {
    "name": "ipython",
    "version": 3
   },
   "file_extension": ".py",
   "mimetype": "text/x-python",
   "name": "python",
   "nbconvert_exporter": "python",
   "pygments_lexer": "ipython3",
   "version": "3.5.4"
  },
  "widgets": {
   "state": {},
   "version": "1.1.2"
  }
 },
 "nbformat": 4,
 "nbformat_minor": 2
}
